{
 "cells": [
  {
   "cell_type": "markdown",
   "metadata": {},
   "source": [
    "Ejemplo de estrategia con la libreria ib_insync\n",
    "===============================================\n",
    "\n",
    "* market:       AAPL\n",
    "* timeframe:    2 min\n",
    "* reglas de entrada:    two_bars_up   and   close > bollinger_up_band (10, 1.5) \n",
    "* reglas de salida:     close < min(6)   or   close < close[2] - 1.5 * atr(14)"
   ]
  },
  {
   "cell_type": "code",
   "execution_count": null,
   "metadata": {
    "tags": []
   },
   "outputs": [],
   "source": [
    "# importar las librerias necesarias\n",
    "# !pip install ib_insync\n",
    "import pandas as pd\n",
    "import numpy as np\n",
    "import time\n",
    "from ib_insync import *  # https://ib-insync.readthedocs.io/readme.html\n",
    "import asyncio"
   ]
  },
  {
   "cell_type": "code",
   "execution_count": null,
   "metadata": {
    "tags": []
   },
   "outputs": [],
   "source": [
    "# 1. CONEXION A IB (TWS debe estar arrancada previamente y configurada para API)\n",
    "# https://interactivebrokers.github.io/tws-api/initial_setup.html\n",
    "\n",
    "ib = IB()\n",
    "util.startLoop() # comentar esta linea si no es un notebook\n",
    "ib.connect('127.0.0.1', 7497, clientId= 2) # para cuenta demo, cliente 1\n",
    "ib.sleep(1) # para asegurar la conexion"
   ]
  },
  {
   "cell_type": "code",
   "execution_count": null,
   "metadata": {
    "tags": []
   },
   "outputs": [],
   "source": [
    "# 2. SE DEFINE EL ACTIVO O MERCADO\n",
    "# (https://interactivebrokers.github.io/tws-api/basic_contracts.html)\n",
    "\n",
    "contract = Stock('AAPL', 'SMART', 'USD')\n",
    "size = 1 # nº de contratos\n",
    "ib.qualifyContracts(contract)"
   ]
  },
  {
   "cell_type": "code",
   "execution_count": null,
   "metadata": {
    "tags": []
   },
   "outputs": [],
   "source": [
    "# Request historical data for AAPL stock\n",
    "\n",
    "bars = ib.reqHistoricalData(\n",
    "    contract=contract,\n",
    "    endDateTime='',\n",
    "    durationStr='1 D', # la duracion del historico requerido\n",
    "    barSizeSetting='2 mins', # timeframe\n",
    "    whatToShow='TRADES',\n",
    "    useRTH=True,\n",
    "    keepUpToDate=True, # actualizacion continua\n",
    "    formatDate=1)"
   ]
  },
  {
   "cell_type": "code",
   "execution_count": null,
   "metadata": {
    "tags": []
   },
   "outputs": [],
   "source": [
    "# Convert bars to dataframe\n",
    "df = util.df(data)\n",
    "\n",
    "# Print dataframe\n",
    "print(df)"
   ]
  },
  {
   "cell_type": "code",
   "execution_count": null,
   "metadata": {
    "tags": []
   },
   "outputs": [],
   "source": [
    "# definimos 2 df: df_in y df_out donde se ira almacenando informacion de la estrategia para monitorizacion y posterior analisis\n",
    "# df_in: ohlcv + indicadores + condiciones + señales de entrada/salida\n",
    "# df_out: ordenes y posiciones\n",
    "\n",
    "df_in = pd.DataFrame(columns=['date', 'open', 'high', 'low', 'close', 'three_bars_up', 'atr_14', 'min_6', 'in_condition_1', 'in_condition_2', 'out_condition_1', 'out_condition_2', 'signal_in', 'signal_out'])\n",
    "df_out = pd.DataFrame(columns=['date', 'current_pos', 'order_sent'])"
   ]
  },
  {
   "cell_type": "code",
   "execution_count": null,
   "metadata": {
    "tags": []
   },
   "outputs": [],
   "source": [
    "df_in"
   ]
  },
  {
   "cell_type": "code",
   "execution_count": null,
   "metadata": {
    "tags": []
   },
   "outputs": [],
   "source": [
    "df_out"
   ]
  },
  {
   "cell_type": "code",
   "execution_count": null,
   "metadata": {
    "tags": []
   },
   "outputs": [],
   "source": [
    "# los guardamos en pickle\n",
    "df_in.to_pickle('df_in.pkl')\n",
    "df_out.to_pickle('df_out.pkl')"
   ]
  },
  {
   "cell_type": "raw",
   "metadata": {
    "jupyter": {
     "source_hidden": true
    },
    "tags": []
   },
   "source": [
    "# 4. SE DEFINEN LAS ACCIONES A REALIZAR EN CADA NUEVA BARRA\n",
    "\n",
    "def on_new_bar(bars: BarDataList, has_new_bar: bool): \n",
    "    if has_new_bar: \n",
    "        \n",
    "        # obtenemos los datos ohlcv\n",
    "        df = util.df(data)\n",
    "        df = df.drop(['volume', 'average', 'barCount'], axis=1) # eliminamos las columnas volume, average y barCount que no queeemos utilizar\n",
    "\n",
    "        # anadimos los indicadores de la estrategia\n",
    "        df['two_bars_up'] = (df['close'] > df['open']) & (df['close'].shift(1) > df['open'].shift(1))\n",
    "        df['atr_14'] = np.max(pd.concat([df['high'] - df['low'], np.abs(df['high'] - df['close'].shift()), np.abs(df['low'] - df['close'].shift())], axis=1), axis=1).rolling(14).sum()/14\n",
    "        df['min_6'] = df['close'].rolling(window=6, min_periods=1).min()\n",
    "        df['bb_upband'] = df['close'].rolling(10).mean() + (df['close'].rolling(10).std() * 1.5)\n",
    "        \n",
    "        # anadimos las condiciones o reglas de la estrategia\n",
    "        df['in_condition_1'] = df['two_bars_up']\n",
    "        df['in_condition_2'] = df['close'] > df['bb_upband']\n",
    "        df['out_condition_1'] = df['close'] < df['min_6']\n",
    "        df['out_condition_2'] = df['close'] < (df['close'].shift(2) - 1.5 * df['atr_14'])\n",
    "\n",
    "        # generamos las senales de la estrategia\n",
    "        #  1 --> BUY\n",
    "        # -1 --> SELL\n",
    "        df[\"signal_in\"] = np.where(df['in_condition_1'] & df['in_condition_2'], 1, 0)\n",
    "        df[\"signal_out\"] = np.where(df['out_condition_1'] | df['out_condition_2'], -1, 0)\n",
    "\n",
    "        df.to_pickle('df_in.pkl')\n",
    "        \n",
    "        # leemos la posicion del broker \n",
    "        df_pos = pd.DataFrame(ib.positions())\n",
    "        time.sleep(1) \n",
    "        \n",
    "        if df_pos.empty:\n",
    "            current_pos = 0\n",
    "        else:\n",
    "            current_pos = df_pos.loc[0, 'position'] # (no valido si mas de un activo)\n",
    "\n",
    "        # enviamos las ordenes a mercado segun la estrategia:\n",
    "        # lanzaremos orden a mercado de venta si en la penultima barra, signal_out es -1 y habia posicion abierta \n",
    "        # (la barra acual aun no se ha cerrado, por lo que no tiene datos validos)\n",
    "        if ((df['signal_in'].iloc[-2] == 0 ) & (df['signal_out'].iloc[-2] == -1) & (current_pos > 0)):\n",
    "            order = MarketOrder('SELL', size)\n",
    "            trade = ib.placeOrder(contract, order)\n",
    "            order_sent = 'SELL'\n",
    "        else:\n",
    "            order_sent = 'None'\n",
    "\n",
    "        # lanzaremos orden a mercado de compra si en la penultima barra, signal_in es 1 y no habia posicion abierta\n",
    "        if ((df['signal_in'].iloc[-2] == 1 ) & (df['signal_out'].iloc[-2] == 0) & (current_pos == 0)):\n",
    "            order = MarketOrder('BUY', size)\n",
    "            trade = ib.placeOrder(contract, order)\n",
    "            order_sent = 'BUY'\n",
    "    \n",
    "        #  actualizamos df_out\n",
    "        df_out = pd.read_pickle('df_out.pkl')\n",
    "        df_out = df_out.append({'date': df['date'].iloc[-1], 'current_pos': current_pos, 'order_sent': order_sent}, ignore_index=True)\n",
    "        df_out.to_pickle('df_out.pkl')\n"
   ]
  },
  {
   "cell_type": "code",
   "execution_count": null,
   "metadata": {
    "tags": []
   },
   "outputs": [],
   "source": [
    "# 4. SE DEFINEN LAS ACCIONES A REALIZAR EN CADA NUEVA BARRA\n",
    "\n",
    "def on_new_bar(bars: BarDataList, has_new_bar: bool): \n",
    "    if has_new_bar: \n",
    "        order = MarketOrder('BUY', size)\n",
    "        trade = ib.placeOrder(contract, order)\n",
    "        order_sent = 'BUY'"
   ]
  },
  {
   "cell_type": "code",
   "execution_count": null,
   "metadata": {
    "tags": []
   },
   "outputs": [],
   "source": [
    "# ejecutamos de forma continua\n",
    "\n",
    "data.updateEvent += on_new_bar\n",
    "ib.run()"
   ]
  },
  {
   "cell_type": "code",
   "execution_count": null,
   "metadata": {
    "tags": []
   },
   "outputs": [],
   "source": [
    "# MONITORIZAMOS LOS RESULTADOS\n",
    "\n",
    "df_in = pd.read_pickle('df_in.pkl')\n",
    "df_out = pd.read_pickle('df_out.pkl')\n",
    "df = pd.merge(df_in, df_out, on='date')\n",
    "df # monitorizamos las operaciones realizadas"
   ]
  },
  {
   "cell_type": "code",
   "execution_count": null,
   "metadata": {
    "tags": []
   },
   "outputs": [],
   "source": [
    "df"
   ]
  },
  {
   "cell_type": "code",
   "execution_count": null,
   "metadata": {
    "tags": []
   },
   "outputs": [],
   "source": [
    "ib.disconnect()"
   ]
  },
  {
   "cell_type": "code",
   "execution_count": null,
   "metadata": {},
   "outputs": [],
   "source": [
    "#df.to_csv('resultados.csv')"
   ]
  }
 ],
 "metadata": {
  "kernelspec": {
   "display_name": "Python 3 (ipykernel)",
   "language": "python",
   "name": "python3"
  },
  "language_info": {
   "codemirror_mode": {
    "name": "ipython",
    "version": 3
   },
   "file_extension": ".py",
   "mimetype": "text/x-python",
   "name": "python",
   "nbconvert_exporter": "python",
   "pygments_lexer": "ipython3",
   "version": "3.10.0"
  },
  "vscode": {
   "interpreter": {
    "hash": "ad2bdc8ecc057115af97d19610ffacc2b4e99fae6737bb82f5d7fb13d2f2c186"
   }
  }
 },
 "nbformat": 4,
 "nbformat_minor": 4
}

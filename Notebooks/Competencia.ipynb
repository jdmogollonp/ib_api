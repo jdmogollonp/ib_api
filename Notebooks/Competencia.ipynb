{
 "cells": [
  {
   "cell_type": "markdown",
   "id": "868a4b20-baed-4982-8f8d-af6e8ecfdbaa",
   "metadata": {},
   "source": [
    "## Pasos"
   ]
  },
  {
   "cell_type": "raw",
   "id": "3548bf09-df52-4b8a-8d2f-652b14311678",
   "metadata": {},
   "source": [
    "def run():\n",
    "    connect()\n",
    "    get_open_orders\n",
    "    get_historical_data()\n",
    "    get_tick()\n",
    "    logic()\n",
    "    place_orders()"
   ]
  },
  {
   "cell_type": "code",
   "execution_count": 1,
   "id": "42224973-a619-4d16-adf0-f60d8117ee25",
   "metadata": {
    "tags": []
   },
   "outputs": [],
   "source": [
    "# Libraries\n",
    "\n",
    "#from ibapi.client import EClient\n",
    "#from ibapi.wrapper import EWrapper\n",
    "#from ibapi.contract import Contract\n",
    "\n",
    "\n",
    "from ib_insync import IB, Forex, Stock, MarketOrder\n",
    "from ib_insync import *\n",
    "\n",
    "\n",
    "import threading\n",
    "import time\n",
    "import asyncio\n",
    "import pandas as pd\n",
    "import numpy as np\n",
    "import time\n",
    "\n"
   ]
  },
  {
   "cell_type": "markdown",
   "id": "6c53b069-c6a0-4c7d-b63f-b4fd0678e035",
   "metadata": {},
   "source": [
    "#### 1 Conneciton to Ibapi"
   ]
  },
  {
   "cell_type": "code",
   "execution_count": 3,
   "id": "7753e2dd-6d47-4228-a620-545617666db6",
   "metadata": {
    "tags": []
   },
   "outputs": [
    {
     "data": {
      "text/plain": [
       "<IB connected to 127.0.0.1:7497 clientId=9>"
      ]
     },
     "execution_count": 3,
     "metadata": {},
     "output_type": "execute_result"
    }
   ],
   "source": [
    "util.startLoop()\n",
    "ib = IB()\n",
    "ib.connect('127.0.0.1', 7497, clientId=9)"
   ]
  },
  {
   "cell_type": "code",
   "execution_count": 4,
   "id": "6f5999b8-b485-4d0f-ad19-d7447606d3f7",
   "metadata": {
    "tags": []
   },
   "outputs": [
    {
     "data": {
      "text/plain": [
       "[Position(account='DU6818917', contract=Stock(conId=107113386, symbol='META', exchange='NASDAQ', currency='USD', localSymbol='META', tradingClass='NMS'), position=50.0, avgCost=186.38)]"
      ]
     },
     "execution_count": 4,
     "metadata": {},
     "output_type": "execute_result"
    }
   ],
   "source": [
    "# Account possitions\n",
    "ib.positions()"
   ]
  },
  {
   "cell_type": "code",
   "execution_count": 5,
   "id": "5594cd13-0dae-498a-b1ae-9288974ff12e",
   "metadata": {
    "tags": []
   },
   "outputs": [
    {
     "data": {
      "text/plain": [
       "[AccountValue(account='DU6818917', tag='NetLiquidationByCurrency', value='1001611', currency='BASE', modelCode='')]"
      ]
     },
     "execution_count": 5,
     "metadata": {},
     "output_type": "execute_result"
    }
   ],
   "source": [
    "# Account info\n",
    "[v for v in ib.accountValues() if v.tag == 'NetLiquidationByCurrency' and v.currency == 'BASE']"
   ]
  },
  {
   "cell_type": "code",
   "execution_count": 6,
   "id": "e6160e78-f816-4f70-97a0-01ab9ed14fa4",
   "metadata": {
    "tags": []
   },
   "outputs": [],
   "source": [
    "ib.disconnect()"
   ]
  },
  {
   "cell_type": "markdown",
   "id": "a4a61fd3-b483-485d-95e8-6162a61ee4d7",
   "metadata": {},
   "source": [
    "#### 2 Get incomming tick data "
   ]
  },
  {
   "cell_type": "code",
   "execution_count": 7,
   "id": "26def510-06b8-43aa-a796-cdde59a05d03",
   "metadata": {
    "tags": []
   },
   "outputs": [
    {
     "data": {
      "text/plain": [
       "<IB connected to 127.0.0.1:7497 clientId=15>"
      ]
     },
     "execution_count": 7,
     "metadata": {},
     "output_type": "execute_result"
    }
   ],
   "source": [
    "from ib_insync import *\n",
    "util.startLoop()\n",
    "\n",
    "ib = IB()\n",
    "ib.connect('127.0.0.1', 7497, clientId=15)"
   ]
  },
  {
   "cell_type": "code",
   "execution_count": 8,
   "id": "8849b4bb-8151-40e1-8f9b-926a652b8b09",
   "metadata": {
    "tags": []
   },
   "outputs": [],
   "source": [
    "contracts = [Forex(pair) for pair in ('EURUSD', 'USDJPY', 'GBPUSD', 'USDCHF', 'USDCAD', 'AUDUSD')]\n",
    "ib.qualifyContracts(*contracts)\n",
    "\n",
    "eurusd = contracts[0]"
   ]
  },
  {
   "cell_type": "code",
   "execution_count": null,
   "id": "0c0e8e95-b781-40c0-80f4-8ce78505a28a",
   "metadata": {
    "tags": []
   },
   "outputs": [],
   "source": []
  },
  {
   "cell_type": "code",
   "execution_count": 10,
   "id": "50884b58-5de7-46f5-9ddc-49099093343f",
   "metadata": {
    "tags": []
   },
   "outputs": [],
   "source": [
    "for contract in contracts:\n",
    "    ib.reqMktData(contract, '', False, False)"
   ]
  },
  {
   "cell_type": "code",
   "execution_count": 11,
   "id": "8a8db733-a35f-41b8-8b56-d45a628d0874",
   "metadata": {
    "tags": []
   },
   "outputs": [
    {
     "data": {
      "text/plain": [
       "Ticker(contract=Forex('EURUSD', conId=12087792, exchange='IDEALPRO', localSymbol='EUR.USD', tradingClass='EUR.USD'), time=datetime.datetime(2023, 3, 6, 21, 21, 20, 206855, tzinfo=datetime.timezone.utc), minTick=1e-05, bid=1.06784, bidSize=1000000.0, ask=1.06786, askSize=2000000.0, prevBid=1.06785, prevBidSize=2000000.0, prevAskSize=1000000.0, high=1.06945, low=1.0622, close=1.0635, halted=0.0)"
      ]
     },
     "execution_count": 11,
     "metadata": {},
     "output_type": "execute_result"
    }
   ],
   "source": [
    "ticker = ib.ticker(eurusd)\n",
    "ib.sleep(2)\n",
    "\n",
    "ticker"
   ]
  },
  {
   "cell_type": "code",
   "execution_count": 29,
   "id": "db432877-e768-4e92-9011-469af2b6a1a4",
   "metadata": {
    "tags": []
   },
   "outputs": [
    {
     "data": {
      "text/plain": [
       "1.0678649999999998"
      ]
     },
     "execution_count": 29,
     "metadata": {},
     "output_type": "execute_result"
    }
   ],
   "source": [
    "ticker.marketPrice()"
   ]
  },
  {
   "cell_type": "code",
   "execution_count": 32,
   "id": "f970f8ba-663f-45a8-8a5e-461c4fb1ea4c",
   "metadata": {
    "tags": []
   },
   "outputs": [
    {
     "data": {
      "text/html": [
       "<div>\n",
       "<style scoped>\n",
       "    .dataframe tbody tr th:only-of-type {\n",
       "        vertical-align: middle;\n",
       "    }\n",
       "\n",
       "    .dataframe tbody tr th {\n",
       "        vertical-align: top;\n",
       "    }\n",
       "\n",
       "    .dataframe thead th {\n",
       "        text-align: right;\n",
       "    }\n",
       "</style>\n",
       "<table border=\"1\" class=\"dataframe\">\n",
       "  <thead>\n",
       "    <tr style=\"text-align: right;\">\n",
       "      <th></th>\n",
       "      <th>bidSize</th>\n",
       "      <th>bid</th>\n",
       "      <th>ask</th>\n",
       "      <th>askSize</th>\n",
       "      <th>high</th>\n",
       "      <th>low</th>\n",
       "      <th>close</th>\n",
       "    </tr>\n",
       "  </thead>\n",
       "  <tbody>\n",
       "    <tr>\n",
       "      <th>EURUSD</th>\n",
       "      <td>2000000.0</td>\n",
       "      <td>1.06782</td>\n",
       "      <td>1.06783</td>\n",
       "      <td>1000000.0</td>\n",
       "      <td>1.06945</td>\n",
       "      <td>1.0622</td>\n",
       "      <td>1.0635</td>\n",
       "    </tr>\n",
       "    <tr>\n",
       "      <th>USDJPY</th>\n",
       "      <td>3000000.0</td>\n",
       "      <td>135.949</td>\n",
       "      <td>135.952</td>\n",
       "      <td>1500000.0</td>\n",
       "      <td>136.195</td>\n",
       "      <td>135.365</td>\n",
       "      <td>135.84</td>\n",
       "    </tr>\n",
       "    <tr>\n",
       "      <th>GBPUSD</th>\n",
       "      <td>3000000.0</td>\n",
       "      <td>1.20208</td>\n",
       "      <td>1.20213</td>\n",
       "      <td>1000000.0</td>\n",
       "      <td>1.2049</td>\n",
       "      <td>1.1993</td>\n",
       "      <td>1.2044</td>\n",
       "    </tr>\n",
       "    <tr>\n",
       "      <th>USDCHF</th>\n",
       "      <td>NaN</td>\n",
       "      <td>NaN</td>\n",
       "      <td>NaN</td>\n",
       "      <td>NaN</td>\n",
       "      <td>NaN</td>\n",
       "      <td>NaN</td>\n",
       "      <td>NaN</td>\n",
       "    </tr>\n",
       "    <tr>\n",
       "      <th>USDCAD</th>\n",
       "      <td>NaN</td>\n",
       "      <td>NaN</td>\n",
       "      <td>NaN</td>\n",
       "      <td>NaN</td>\n",
       "      <td>NaN</td>\n",
       "      <td>NaN</td>\n",
       "      <td>NaN</td>\n",
       "    </tr>\n",
       "    <tr>\n",
       "      <th>AUDUSD</th>\n",
       "      <td>3000000.0</td>\n",
       "      <td>0.67303</td>\n",
       "      <td>0.67305</td>\n",
       "      <td>47000.0</td>\n",
       "      <td>0.67695</td>\n",
       "      <td>0.67165</td>\n",
       "      <td>0.6769</td>\n",
       "    </tr>\n",
       "  </tbody>\n",
       "</table>\n",
       "</div>"
      ],
      "text/plain": [
       "          bidSize      bid      ask    askSize     high      low   close\n",
       "EURUSD  2000000.0  1.06782  1.06783  1000000.0  1.06945   1.0622  1.0635\n",
       "USDJPY  3000000.0  135.949  135.952  1500000.0  136.195  135.365  135.84\n",
       "GBPUSD  3000000.0  1.20208  1.20213  1000000.0   1.2049   1.1993  1.2044\n",
       "USDCHF        NaN      NaN      NaN        NaN      NaN      NaN     NaN\n",
       "USDCAD        NaN      NaN      NaN        NaN      NaN      NaN     NaN\n",
       "AUDUSD  3000000.0  0.67303  0.67305    47000.0  0.67695  0.67165  0.6769"
      ]
     },
     "metadata": {},
     "output_type": "display_data"
    }
   ],
   "source": [
    "from IPython.display import display, clear_output\n",
    "import pandas as pd\n",
    "\n",
    "df = pd.DataFrame(\n",
    "    index=[c.pair() for c in contracts],\n",
    "    columns=['bidSize', 'bid', 'ask', 'askSize', 'high', 'low', 'close'])\n",
    "\n",
    "def onPendingTickers(tickers):\n",
    "    for t in tickers:\n",
    "        df.loc[t.contract.pair()] = (\n",
    "            t.bidSize, t.bid, t.ask, t.askSize, t.high, t.low, t.close)\n",
    "        clear_output(wait=True)\n",
    "    display(df)        \n",
    "\n",
    "ib.pendingTickersEvent += onPendingTickers\n",
    "ib.sleep(5)\n",
    "ib.pendingTickersEvent -= onPendingTickers"
   ]
  },
  {
   "cell_type": "code",
   "execution_count": null,
   "id": "2910f3ed-44d4-49f1-99dd-f9745ee9b23d",
   "metadata": {},
   "outputs": [],
   "source": [
    "for contract in contracts:\n",
    "    ib.cancelMktData(contract)"
   ]
  },
  {
   "cell_type": "code",
   "execution_count": null,
   "id": "57113ee3-dfb6-488a-b316-be9323c3f785",
   "metadata": {},
   "outputs": [],
   "source": [
    "import asyncio\n",
    "\n",
    "import ib_insync as ibi\n",
    "\n",
    "\n",
    "class App:\n",
    "\n",
    "    async def run(self):\n",
    "        self.ib = ibi.IB()\n",
    "        with await self.ib.connectAsync():\n",
    "            contracts = [\n",
    "                ibi.Stock(symbol, 'SMART', 'USD')\n",
    "                for symbol in ['AAPL', 'TSLA', 'AMD', 'INTC']]\n",
    "            for contract in contracts:\n",
    "                self.ib.reqMktData(contract)\n",
    "\n",
    "            async for tickers in self.ib.pendingTickersEvent:\n",
    "                for ticker in tickers:\n",
    "                    print(ticker)\n",
    "\n",
    "    def stop(self):\n",
    "        self.ib.disconnect()\n",
    "\n",
    "\n",
    "app = App()\n",
    "try:\n",
    "    asyncio.run(app.run())\n",
    "except (KeyboardInterrupt, SystemExit):\n",
    "    app.stop()"
   ]
  },
  {
   "cell_type": "markdown",
   "id": "e621ef4c-e0a7-43d9-b569-491da2848100",
   "metadata": {},
   "source": [
    "#### 3 Basic Open/Close logic, position sizing"
   ]
  },
  {
   "cell_type": "code",
   "execution_count": null,
   "id": "b6ca9c73-4a8e-426c-9fdf-3c5d72f00e87",
   "metadata": {},
   "outputs": [],
   "source": []
  },
  {
   "cell_type": "markdown",
   "id": "2292d778-126d-47e5-b0e6-cb3e41d5ca89",
   "metadata": {},
   "source": [
    "#### 4 Put order (market, limit)"
   ]
  },
  {
   "cell_type": "code",
   "execution_count": 40,
   "id": "b928b103-704a-442a-b736-c1d343bc642e",
   "metadata": {
    "tags": []
   },
   "outputs": [
    {
     "data": {
      "text/plain": [
       "<IB connected to 127.0.0.1:7497 clientId=16>"
      ]
     },
     "execution_count": 40,
     "metadata": {},
     "output_type": "execute_result"
    }
   ],
   "source": [
    "from ib_insync import *\n",
    "util.startLoop()\n",
    "\n",
    "ib = IB()\n",
    "ib.connect('127.0.0.1', 7497, clientId=16)\n",
    "# util.logToConsole()"
   ]
  },
  {
   "cell_type": "code",
   "execution_count": null,
   "id": "397fc8bc-d9f5-454a-bc1b-24a751ee801f",
   "metadata": {},
   "outputs": [],
   "source": [
    "contract = Forex('EURUSD')\n",
    "ib.qualifyContracts(contract)\n",
    "\n",
    "order = LimitOrder('SELL', 20000, 1.11)"
   ]
  },
  {
   "cell_type": "code",
   "execution_count": null,
   "id": "b1eed0bc-d79b-49cc-9f62-7e62f6267c65",
   "metadata": {},
   "outputs": [],
   "source": [
    "trade = ib.placeOrder(contract, order)"
   ]
  },
  {
   "cell_type": "code",
   "execution_count": null,
   "id": "14f8c013-b702-4660-a100-ba5193758666",
   "metadata": {},
   "outputs": [],
   "source": [
    "trade.log"
   ]
  },
  {
   "cell_type": "code",
   "execution_count": null,
   "id": "9e5b8a9c-33f6-43ce-aedf-a824def09296",
   "metadata": {},
   "outputs": [],
   "source": [
    "assert trade in ib.trades()"
   ]
  },
  {
   "cell_type": "code",
   "execution_count": null,
   "id": "830c28a2-eb12-4e29-bb40-7627cbc32040",
   "metadata": {},
   "outputs": [],
   "source": [
    "# limit order\n",
    "limitOrder = LimitOrder('BUY', 20000, 0.05)\n",
    "limitTrade = ib.placeOrder(contract, limitOrder)\n",
    "\n",
    "limitTrade"
   ]
  },
  {
   "cell_type": "code",
   "execution_count": 36,
   "id": "bcbcc94e-5619-4f8c-bb8e-7125540c4817",
   "metadata": {
    "tags": []
   },
   "outputs": [
    {
     "ename": "NameError",
     "evalue": "name 'limitTrade' is not defined",
     "output_type": "error",
     "traceback": [
      "\u001b[1;31m---------------------------------------------------------------------------\u001b[0m",
      "\u001b[1;31mNameError\u001b[0m                                 Traceback (most recent call last)",
      "Cell \u001b[1;32mIn[36], line 3\u001b[0m\n\u001b[0;32m      1\u001b[0m \u001b[38;5;66;03m# Check order status\u001b[39;00m\n\u001b[0;32m      2\u001b[0m ib\u001b[38;5;241m.\u001b[39msleep(\u001b[38;5;241m1\u001b[39m)\n\u001b[1;32m----> 3\u001b[0m \u001b[38;5;28;01massert\u001b[39;00m \u001b[43mlimitTrade\u001b[49m\u001b[38;5;241m.\u001b[39morderStatus\u001b[38;5;241m.\u001b[39mstatus \u001b[38;5;241m==\u001b[39m \u001b[38;5;124m'\u001b[39m\u001b[38;5;124mSubmitted\u001b[39m\u001b[38;5;124m'\u001b[39m\n",
      "\u001b[1;31mNameError\u001b[0m: name 'limitTrade' is not defined"
     ]
    }
   ],
   "source": [
    "# Check order status\n",
    "ib.sleep(1)\n",
    "assert limitTrade.orderStatus.status == 'Submitted'"
   ]
  },
  {
   "cell_type": "code",
   "execution_count": 41,
   "id": "7062cd6f-6b32-4d8c-9b83-0d2cf530a3f8",
   "metadata": {
    "tags": []
   },
   "outputs": [],
   "source": [
    "# Market Order\n",
    "\n",
    "order = MarketOrder('BUY', 100)\n",
    "\n",
    "trade = ib.placeOrder(contract, order)\n",
    "while not trade.isDone():\n",
    "    ib.waitOnUpdate()"
   ]
  },
  {
   "cell_type": "code",
   "execution_count": 42,
   "id": "3966e333-c243-4263-b9d7-3bc86adcd930",
   "metadata": {
    "tags": []
   },
   "outputs": [
    {
     "data": {
      "text/plain": [
       "Forex('AUDUSD', conId=14433401, exchange='IDEALPRO', localSymbol='AUD.USD', tradingClass='AUD.USD')"
      ]
     },
     "execution_count": 42,
     "metadata": {},
     "output_type": "execute_result"
    }
   ],
   "source": [
    "contract"
   ]
  },
  {
   "cell_type": "code",
   "execution_count": null,
   "id": "3cf8207f-c04b-4232-9313-a0973d12390e",
   "metadata": {},
   "outputs": [],
   "source": [
    "ib.positions()"
   ]
  },
  {
   "cell_type": "code",
   "execution_count": null,
   "id": "06b1dba8-4101-4dda-bd1f-e7f5da6f2200",
   "metadata": {},
   "outputs": [],
   "source": [
    "ib.disconnect()"
   ]
  },
  {
   "cell_type": "code",
   "execution_count": 44,
   "id": "a2e79959-22ee-446d-a97f-5c469a9c4d1b",
   "metadata": {
    "tags": []
   },
   "outputs": [
    {
     "ename": "TypeError",
     "evalue": "Order.__init__() got an unexpected keyword argument 'leverage'",
     "output_type": "error",
     "traceback": [
      "\u001b[1;31m---------------------------------------------------------------------------\u001b[0m",
      "\u001b[1;31mTypeError\u001b[0m                                 Traceback (most recent call last)",
      "Cell \u001b[1;32mIn[44], line 13\u001b[0m\n\u001b[0;32m     10\u001b[0m contract \u001b[38;5;241m=\u001b[39m Stock(\u001b[38;5;124m'\u001b[39m\u001b[38;5;124mAAPL\u001b[39m\u001b[38;5;124m'\u001b[39m, \u001b[38;5;124m'\u001b[39m\u001b[38;5;124mSMART\u001b[39m\u001b[38;5;124m'\u001b[39m, \u001b[38;5;124m'\u001b[39m\u001b[38;5;124mUSD\u001b[39m\u001b[38;5;124m'\u001b[39m)\n\u001b[0;32m     12\u001b[0m \u001b[38;5;66;03m# Define the order parameters for a long position with leverage\u001b[39;00m\n\u001b[1;32m---> 13\u001b[0m order \u001b[38;5;241m=\u001b[39m \u001b[43mLimitOrder\u001b[49m\u001b[43m(\u001b[49m\u001b[38;5;124;43m'\u001b[39;49m\u001b[38;5;124;43mBUY\u001b[39;49m\u001b[38;5;124;43m'\u001b[39;49m\u001b[43m,\u001b[49m\u001b[43m \u001b[49m\u001b[38;5;241;43m100\u001b[39;49m\u001b[43m,\u001b[49m\u001b[43m \u001b[49m\u001b[38;5;241;43m150.0\u001b[39;49m\u001b[43m,\u001b[49m\u001b[43m \u001b[49m\u001b[43maccount\u001b[49m\u001b[38;5;241;43m=\u001b[39;49m\u001b[38;5;124;43m'\u001b[39;49m\u001b[38;5;124;43mDU123456\u001b[39;49m\u001b[38;5;124;43m'\u001b[39;49m\u001b[43m,\u001b[49m\u001b[43m \u001b[49m\u001b[43mleverage\u001b[49m\u001b[38;5;241;43m=\u001b[39;49m\u001b[38;5;241;43m4\u001b[39;49m\u001b[43m)\u001b[49m\n\u001b[0;32m     15\u001b[0m \u001b[38;5;66;03m# Place the order\u001b[39;00m\n\u001b[0;32m     16\u001b[0m ib\u001b[38;5;241m.\u001b[39mplaceOrder(contract, order)\n",
      "File \u001b[1;32m~\\AppData\\Local\\Programs\\Python\\Python310\\lib\\site-packages\\ib_insync\\order.py:185\u001b[0m, in \u001b[0;36mLimitOrder.__init__\u001b[1;34m(self, action, totalQuantity, lmtPrice, **kwargs)\u001b[0m\n\u001b[0;32m    183\u001b[0m \u001b[38;5;28;01mdef\u001b[39;00m \u001b[38;5;21m__init__\u001b[39m(\u001b[38;5;28mself\u001b[39m, action: \u001b[38;5;28mstr\u001b[39m, totalQuantity: \u001b[38;5;28mfloat\u001b[39m, lmtPrice: \u001b[38;5;28mfloat\u001b[39m,\n\u001b[0;32m    184\u001b[0m              \u001b[38;5;241m*\u001b[39m\u001b[38;5;241m*\u001b[39mkwargs):\n\u001b[1;32m--> 185\u001b[0m     Order\u001b[38;5;241m.\u001b[39m\u001b[38;5;21m__init__\u001b[39m(\n\u001b[0;32m    186\u001b[0m         \u001b[38;5;28mself\u001b[39m, orderType\u001b[38;5;241m=\u001b[39m\u001b[38;5;124m'\u001b[39m\u001b[38;5;124mLMT\u001b[39m\u001b[38;5;124m'\u001b[39m, action\u001b[38;5;241m=\u001b[39maction,\n\u001b[0;32m    187\u001b[0m         totalQuantity\u001b[38;5;241m=\u001b[39mtotalQuantity, lmtPrice\u001b[38;5;241m=\u001b[39mlmtPrice, \u001b[38;5;241m*\u001b[39m\u001b[38;5;241m*\u001b[39mkwargs)\n",
      "\u001b[1;31mTypeError\u001b[0m: Order.__init__() got an unexpected keyword argument 'leverage'"
     ]
    }
   ],
   "source": [
    "###\n",
    "from ib_insync import *\n",
    "\n",
    "# Connect to the Interactive Brokers API\n",
    "util.startLoop()\n",
    "ib = IB()\n",
    "ib.connect('127.0.0.1', 7497, clientId=0)\n",
    "\n",
    "# Define the contract for the stock you want to trade\n",
    "contract = Stock('AAPL', 'SMART', 'USD')\n",
    "\n",
    "# Define the order parameters for a long position with leverage\n",
    "order = LimitOrder('BUY', 100, 150.0, account='DU123456', leverage=4)\n",
    "\n",
    "# Place the order\n",
    "ib.placeOrder(contract, order)\n",
    "\n",
    "# Disconnect from the API\n",
    "ib.disconnect()\n",
    "\n"
   ]
  },
  {
   "cell_type": "markdown",
   "id": "1f6baaf5-ad51-41c3-affa-853a827ee7b8",
   "metadata": {},
   "source": [
    "#### 5 Cancel open orders (end of the day)"
   ]
  },
  {
   "cell_type": "code",
   "execution_count": null,
   "id": "47fed47d-7d9a-4575-afe7-9918364c7481",
   "metadata": {},
   "outputs": [],
   "source": [
    "# Cancelar la orden a partir del id\n",
    "ib.cancelOrder(limitOrder)\n",
    "    \n",
    "    "
   ]
  },
  {
   "cell_type": "markdown",
   "id": "0579c326-579c-4de6-b8e3-d9faefb4c169",
   "metadata": {},
   "source": [
    "#### 6. Run ETL"
   ]
  },
  {
   "cell_type": "code",
   "execution_count": null,
   "id": "7af66d65-c90f-409a-af6a-b08a08b14dcb",
   "metadata": {
    "tags": []
   },
   "outputs": [],
   "source": [
    "\n"
   ]
  },
  {
   "cell_type": "code",
   "execution_count": null,
   "id": "e1f4d141-3b4e-4983-94ab-aabb970c489f",
   "metadata": {
    "tags": []
   },
   "outputs": [],
   "source": []
  },
  {
   "cell_type": "code",
   "execution_count": null,
   "id": "e70051a7-3e27-4c01-9fc6-e2f22cbea004",
   "metadata": {
    "tags": []
   },
   "outputs": [],
   "source": [
    "test = BaseModel()"
   ]
  },
  {
   "cell_type": "code",
   "execution_count": null,
   "id": "a75038ee-9b45-4a66-9a02-5d4c6b76cee5",
   "metadata": {
    "tags": []
   },
   "outputs": [],
   "source": [
    "test.connect_to_ib()"
   ]
  },
  {
   "cell_type": "code",
   "execution_count": null,
   "id": "9a7b714c-a1fa-4838-b6dd-bb36ecbfae96",
   "metadata": {
    "tags": []
   },
   "outputs": [],
   "source": [
    "#### 7. Historical Data"
   ]
  },
  {
   "cell_type": "code",
   "execution_count": null,
   "id": "0b18266c-cd73-4bb7-8fd7-62f0ca1f7dd9",
   "metadata": {
    "tags": []
   },
   "outputs": [],
   "source": [
    "\n",
    "from ibapi.client import EClient\n",
    "from ibapi.wrapper import EWrapper\n",
    "from ibapi.contract import Contract\n",
    "\n",
    "import threading\n",
    "import time\n",
    "\n",
    "class IBapi(EWrapper, EClient):\n",
    "\tdef __init__(self):\n",
    "\t\tEClient.__init__(self, self)\n",
    "\t\tself.data = [] #Initialize variable to store candle\n",
    "\n",
    "\tdef historicalData(self, reqId, bar):\n",
    "\t\tprint(f'Time: {bar.date} Close: {bar.close}')\n",
    "\t\tself.data.append([bar.date, bar.close])\n",
    "\t\t\n",
    "def run_loop():\n",
    "\tapp.run()\n",
    "\n",
    "app = IBapi()\n",
    "app.connect('127.0.0.1', 7497, 123)\n",
    "\n",
    "#Start the socket in a thread\n",
    "api_thread = threading.Thread(target=run_loop, daemon=True)\n",
    "api_thread.start()\n",
    "\n",
    "time.sleep(1) #Sleep interval to allow time for connection to server\n",
    "\n",
    "#Create contract object\n",
    "eurusd_contract = Contract()\n",
    "eurusd_contract.symbol = 'EUR'\n",
    "eurusd_contract.secType = 'CASH'\n",
    "eurusd_contract.exchange = 'IDEALPRO'\n",
    "eurusd_contract.currency = 'USD'\n",
    "\n",
    "#Request historical candles\n",
    "app.reqHistoricalData(1, eurusd_contract, '', '2 D', '1 hour', 'BID', 0, 2, False, [])\n",
    "\n",
    "time.sleep(5) #sleep to allow enough time for data to be returned\n",
    "\n",
    "#Working with Pandas DataFrames\n",
    "import pandas\n",
    "\n",
    "df = pandas.DataFrame(app.data, columns=['DateTime', 'Close'])\n",
    "df['DateTime'] = pandas.to_datetime(df['DateTime'],unit='s') \n",
    "df.to_csv('EURUSD_Hourly.csv')  \n",
    "\n",
    "print(df)\n",
    "\n",
    "\n",
    "app.disconnect()"
   ]
  },
  {
   "cell_type": "code",
   "execution_count": 33,
   "id": "ad4a663a-af0a-4295-99d0-fef225bc9773",
   "metadata": {
    "tags": []
   },
   "outputs": [
    {
     "data": {
      "text/plain": [
       "HistoricalTickBidAsk(time=datetime.datetime(2023, 3, 6, 21, 26, 29, tzinfo=datetime.timezone.utc), tickAttribBidAsk=TickAttribBidAsk(bidPastLow=False, askPastHigh=False), priceBid=1.06792, priceAsk=1.06793, sizeBid=1000000.0, sizeAsk=2000000.0)"
      ]
     },
     "execution_count": 33,
     "metadata": {},
     "output_type": "execute_result"
    }
   ],
   "source": [
    "import datetime\n",
    "\n",
    "start = ''\n",
    "end = datetime.datetime.now()\n",
    "ticks = ib.reqHistoricalTicks(eurusd, start, end, 1000, 'BID_ASK', useRth=False)\n",
    "\n",
    "ticks[-1]\n"
   ]
  },
  {
   "cell_type": "code",
   "execution_count": 35,
   "id": "d7ac984e-efb2-45ff-be92-251f43b13302",
   "metadata": {
    "tags": []
   },
   "outputs": [],
   "source": [
    "ib.disconnect()"
   ]
  },
  {
   "cell_type": "code",
   "execution_count": null,
   "id": "88026e4d-69f9-4b91-acb1-43a3d9cb86d7",
   "metadata": {
    "tags": []
   },
   "outputs": [],
   "source": [
    "## Disconecting\n",
    "ib.disconnect()"
   ]
  }
 ],
 "metadata": {
  "kernelspec": {
   "display_name": "Python 3 (ipykernel)",
   "language": "python",
   "name": "python3"
  },
  "language_info": {
   "codemirror_mode": {
    "name": "ipython",
    "version": 3
   },
   "file_extension": ".py",
   "mimetype": "text/x-python",
   "name": "python",
   "nbconvert_exporter": "python",
   "pygments_lexer": "ipython3",
   "version": "3.10.0"
  }
 },
 "nbformat": 4,
 "nbformat_minor": 5
}
